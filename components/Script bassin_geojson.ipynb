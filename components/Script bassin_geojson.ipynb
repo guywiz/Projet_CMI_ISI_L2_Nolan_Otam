{
 "cells": [
  {
   "attachments": {},
   "cell_type": "markdown",
   "metadata": {},
   "source": [
    "# Script de création d'un geojson complet pour les bassins d'emploi"
   ]
  },
  {
   "attachments": {},
   "cell_type": "markdown",
   "metadata": {},
   "source": [
    "## Contexte"
   ]
  },
  {
   "attachments": {},
   "cell_type": "markdown",
   "metadata": {},
   "source": [
    "Afin de réaliser certaines représentations cartographiques, il est nécessaire de disposer de fonds de cartes, notamment pour représenter les limites de régions. Le site https://france-geojson.gregoiredavid.fr/ propose des fonds de carte en GeoJSON très faciles à utiliser avec la bibliothèque `plotly`. Nous avons ainsi pu réaliser des représentations en fonction des régions ou des départements. Toutefois, nous avons constaté que ce site ne propose pas de fond de carte pour les bassins d'emploi. Il convient donc de trouver une autre source de données cartographiques pour cette représentation spécifique."
   ]
  },
  {
   "attachments": {},
   "cell_type": "markdown",
   "metadata": {},
   "source": [
    "Après des recherches approfondies, nous n'avons pas réussi à trouver des fonds de carte pour les bassins d'emploi autres que ceux proposés par l'INSEE. Toutefois, les fonds de carte de l'INSEE ne correspondent pas exactement au découpage des bassins d'emploi de Pôle emploi, qui en compte environ 400 contre 300 pour l'INSEE. Par conséquent, nous n'avons pas pu les utiliser.\n",
    "</br>\n",
    "En fouillant un peu sur la source des données, nous avons découvert le site https://dataemploi.pole-emploi.fr/accueil, qui permet de visualiser certaines données en fonction d'un territoire donné, tel qu'un bassin d'emploi. En outre, la carte interactive proposée par ce site affiche clairement les limites des bassins d'emploi. </br>\n",
    "Par chance, nous avons remarqué en examinant l'activité réseau (sur chrome F12 -> onglet network) que lorsqu'on demande à voir la carte, une requête est effectuée vers l'URL https://dataemploi.pole-emploi.fr/geoJson?tt=REG&t=%CODE_REG%&isbassin=true, qui renvoie un fichier GeoJSON contenant les fonds de carte des bassins d'emploi d'une région donnée.\n",
    "\n"
   ]
  },
  {
   "attachments": {},
   "cell_type": "markdown",
   "metadata": {},
   "source": [
    "Le script suivant va donc effectuer une requête à l'URL https://dataemploi.pole-emploi.fr/geoJson?tt=REG&t=%CODE_REG%&isbassin=true pour chaque région, puis rassembler les fichiers GeoJSON obtenus en un seul. Cela nous permettra de réaliser des représentations cartographiques en fonction des bassins d'emploi."
   ]
  },
  {
   "attachments": {},
   "cell_type": "markdown",
   "metadata": {},
   "source": [
    "## Script"
   ]
  },
  {
   "cell_type": "code",
   "execution_count": 1,
   "metadata": {},
   "outputs": [],
   "source": [
    "import requests,json\n",
    "import pandas as pd\n",
    "import sqlite3"
   ]
  },
  {
   "attachments": {},
   "cell_type": "markdown",
   "metadata": {},
   "source": [
    "On récupère les numéros des régions :"
   ]
  },
  {
   "cell_type": "code",
   "execution_count": 2,
   "metadata": {},
   "outputs": [],
   "source": [
    "db = sqlite3.connect(\"Emploi.db\")\n",
    "nreg=pd.read_sql_query(\"SELECT reg FROM geo\",db)[\"reg\"].unique()"
   ]
  },
  {
   "attachments": {},
   "cell_type": "markdown",
   "metadata": {},
   "source": [
    "Pour chaque region, on fait des requêtes aux serveurs de pôle emploi pour avoir le geojson des bassins d'emploi. Enfin, on concatene ces geojson pour obtenir un fichier geojson contenant les bassins d'emploi de toute la France : "
   ]
  },
  {
   "cell_type": "code",
   "execution_count": 3,
   "metadata": {},
   "outputs": [
    {
     "name": "stdout",
     "output_type": "stream",
     "text": [
      "https://dataemploi.pole-emploi.fr/geoJson?tt=REG&t=84&isbassin=true   RESPONSE : GOOD\n",
      "https://dataemploi.pole-emploi.fr/geoJson?tt=REG&t=32&isbassin=true   RESPONSE : GOOD\n",
      "https://dataemploi.pole-emploi.fr/geoJson?tt=REG&t=93&isbassin=true   RESPONSE : GOOD\n",
      "https://dataemploi.pole-emploi.fr/geoJson?tt=REG&t=44&isbassin=true   RESPONSE : GOOD\n",
      "https://dataemploi.pole-emploi.fr/geoJson?tt=REG&t=76&isbassin=true   RESPONSE : GOOD\n",
      "https://dataemploi.pole-emploi.fr/geoJson?tt=REG&t=28&isbassin=true   RESPONSE : GOOD\n",
      "https://dataemploi.pole-emploi.fr/geoJson?tt=REG&t=75&isbassin=true   RESPONSE : GOOD\n",
      "https://dataemploi.pole-emploi.fr/geoJson?tt=REG&t=24&isbassin=true   RESPONSE : GOOD\n",
      "https://dataemploi.pole-emploi.fr/geoJson?tt=REG&t=27&isbassin=true   RESPONSE : GOOD\n",
      "https://dataemploi.pole-emploi.fr/geoJson?tt=REG&t=53&isbassin=true   RESPONSE : GOOD\n",
      "https://dataemploi.pole-emploi.fr/geoJson?tt=REG&t=94&isbassin=true   RESPONSE : GOOD\n",
      "https://dataemploi.pole-emploi.fr/geoJson?tt=REG&t=52&isbassin=true   RESPONSE : GOOD\n",
      "https://dataemploi.pole-emploi.fr/geoJson?tt=REG&t=11&isbassin=true   RESPONSE : GOOD\n",
      "https://dataemploi.pole-emploi.fr/geoJson?tt=REG&t=01&isbassin=true   RESPONSE : GOOD\n",
      "https://dataemploi.pole-emploi.fr/geoJson?tt=REG&t=02&isbassin=true   RESPONSE : GOOD\n",
      "https://dataemploi.pole-emploi.fr/geoJson?tt=REG&t=03&isbassin=true   RESPONSE : GOOD\n",
      "https://dataemploi.pole-emploi.fr/geoJson?tt=REG&t=04&isbassin=true   RESPONSE : GOOD\n",
      "https://dataemploi.pole-emploi.fr/geoJson?tt=REG&t=06&isbassin=true   RESPONSE : GOOD\n"
     ]
    }
   ],
   "source": [
    "geo_json={'type': 'FeatureCollection','name': 'Bassins-Emploi-Région','features':[]}\n",
    "for n in nreg:\n",
    "    code='{0:0>2}'.format(n)\n",
    "    response = requests.get(f\"https://dataemploi.pole-emploi.fr/geoJson?tt=REG&t={code}&isbassin=true\")\n",
    "    print(f\"https://dataemploi.pole-emploi.fr/geoJson?tt=REG&t={code}&isbassin=true   RESPONSE : {response.text if len(response.text)<50 else 'GOOD'}\")\n",
    "    js=json.loads(response.text)\n",
    "    geo_json[\"features\"]+=js[\"features\"]"
   ]
  },
  {
   "attachments": {},
   "cell_type": "markdown",
   "metadata": {},
   "source": [
    "Ici on exporte simplement ce geojson dans un fichier intitulé bassins.geojson "
   ]
  },
  {
   "cell_type": "code",
   "execution_count": 5,
   "metadata": {},
   "outputs": [],
   "source": [
    "with open(\"data/geojson/bassins.geojson\", \"w\",encoding=\"utf8\") as outfile:\n",
    "    json.dump(geo_json, outfile,ensure_ascii=False)"
   ]
  }
 ],
 "metadata": {
  "kernelspec": {
   "display_name": "VENV",
   "language": "python",
   "name": "python3"
  },
  "language_info": {
   "codemirror_mode": {
    "name": "ipython",
    "version": 3
   },
   "file_extension": ".py",
   "mimetype": "text/x-python",
   "name": "python",
   "nbconvert_exporter": "python",
   "pygments_lexer": "ipython3",
   "version": "3.8.8"
  },
  "orig_nbformat": 4
 },
 "nbformat": 4,
 "nbformat_minor": 2
}
