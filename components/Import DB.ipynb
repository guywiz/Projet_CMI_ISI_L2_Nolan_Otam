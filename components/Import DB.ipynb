{
 "cells": [
  {
   "cell_type": "markdown",
   "metadata": {},
   "source": [
    "**Importation des bibliothèques nécessaires**\n"
   ]
  },
  {
   "cell_type": "code",
   "execution_count": 116,
   "metadata": {},
   "outputs": [],
   "source": [
    "import sqlite3\n",
    "import pandas as pd\n",
    "from unidecode import unidecode\n",
    "from numpy import NaN"
   ]
  },
  {
   "cell_type": "markdown",
   "metadata": {},
   "source": [
    "# Importation des données CSV dans la base de données `Emploi.db`\n"
   ]
  },
  {
   "attachments": {},
   "cell_type": "markdown",
   "metadata": {},
   "source": [
    "## Nettoyage des données\n"
   ]
  },
  {
   "attachments": {},
   "cell_type": "markdown",
   "metadata": {},
   "source": [
    "Nous avons d'abord fait correspondre autant que possible les valeurs présentes dans les colonnes. Pour les colonnes `NOMBE**`, nous avons d'abord supprimé tous les caractères accentués (en remplaçant `é` par `e` par exemple) puis en mettant toutes les caractères en majuscule. Ensuite, en comparant les valeurs ayant le même code `BE**`, nous avons modifié manuellement les valeurs pour essayer de les faire correspondre au plus à celles de `NOMBE22`. Nous avons également supprimé les lignes n'ayant aucune valeur à la fois dans la colonne `met`, `xmet` et `smet`.\n"
   ]
  },
  {
   "attachments": {},
   "cell_type": "markdown",
   "metadata": {},
   "source": [
    "**Fonctions auxiliaires**\n"
   ]
  },
  {
   "cell_type": "code",
   "execution_count": 117,
   "metadata": {},
   "outputs": [],
   "source": [
    "# Fonction pour convertir une colonne en int avec 0 pour valeur non numerique\n",
    "def convert_to_int_with_0(df, cols):\n",
    "    for col in cols:\n",
    "        if df[col].dtypes == \"object\":\n",
    "            df[col] = df[col].str.replace(\n",
    "                ' \\t-     ', '0', regex=False).str.replace('*', '0', regex=False).astype(\"int32\")\n",
    "    return df"
   ]
  },
  {
   "attachments": {},
   "cell_type": "markdown",
   "metadata": {},
   "source": [
    "**Création des dataframe**\n"
   ]
  },
  {
   "cell_type": "code",
   "execution_count": 118,
   "metadata": {},
   "outputs": [],
   "source": [
    "list_df = [\"17\", \"18\", \"19\", \"20\", \"21\", \"22\"]\n",
    "\n",
    "dfs = {}\n",
    "\n",
    "for df_str in list_df:\n",
    "    with open(f'../data/Emplois_20{df_str}.csv', 'r', encoding='utf-8') as csvfile:\n",
    "        df = pd.read_csv(csvfile, delimiter=';')\n",
    "\n",
    "    df = convert_to_int_with_0(df, [\"met\", \"xmet\", \"smet\"])\n",
    "    # Suppression des met vides, puisque si met vide alors xmet et smet vides\n",
    "    df = df[~(df[\"met\"].isna())]\n",
    "\n",
    "    # Rennomage des colonnes\n",
    "    df.rename(inplace=True, columns={\"code métier BMO \": \"Code métier BMO\", \"nom_metier BMO\": \"Nom métier BMO\",\n",
    "              \"metier\": \"Code métier BMO\", \"nommetier\": \"Nom métier BMO\", \"NOM_REG18\": \"NOM_REG\"})\n",
    "\n",
    "    # Suprresion des lignes avec des code région,dept,bassin vide\n",
    "    df = df[~((df[\"NOM_REG\"].isna()) & (df[\"NomDept\"].isna())\n",
    "              & (df[f\"BE{df_str}\"].isna()))]\n",
    "\n",
    "    dfs[df_str] = df"
   ]
  },
  {
   "attachments": {},
   "cell_type": "markdown",
   "metadata": {},
   "source": [
    "Pour les bassins d'emplois (`BE**`) non renseignées on renseigne un code unique généré à partir des noms de régions et de départements, puis conversion de la colonne `BE**` en `int32`.\n"
   ]
  },
  {
   "cell_type": "code",
   "execution_count": 119,
   "metadata": {},
   "outputs": [],
   "source": [
    "liste_code_bassin = [101, 102, 103, 104, 105, 1107, 1108, 1109, 1115, 1116, 1117, 1118, 1119, 1124, 1125, 1126, 1127, 1128, 1129, 1137, 1138, 1139, 1146, 1147, 1148, 1149, 1150, 1151, 1152, 1153, 201, 202, 203, 204, 2401, 2402, 2403, 2404, 2405, 2406, 2407, 2408, 2409, 2410, 2411, 2412, 2413, 2414, 2415, 2416, 2417, 2418, 2419, 2420, 2421, 2422, 2701, 2702, 2703, 2704, 2705, 2706, 2707, 2708, 2709, 2710, 2711, 2712, 2713, 2714, 2715, 2716, 2718, 2719, 2720, 2721, 2726, 2727, 2728, 2729, 2730, 2731, 2733, 2734, 2735, 2801, 2802, 2803, 2804, 2805, 2806, 2807, 2808, 2809, 2810, 2811, 2812, 2813, 2814, 2816, 2817, 2818, 2819, 2820, 2821, 2822, 2823, 2824, 2825, 2826, 2827, 2828, 301, 302, 303, 3201, 3202, 3203, 3204, 3205, 3206, 3207, 3208, 3210, 3211, 3212, 3213, 3214, 3216, 3217, 3218, 3219, 3220, 3221, 3222, 3223, 3224, 3225, 3226, 3227, 3228, 3229, 3230, 401, 402, 403, 404, 405, 4402, 4404, 4407, 4408, 4411, 4412, 4413, 4414, 4415, 4416, 4417, 4418, 4419, 4420, 4421, 4422, 4423, 4424, 4425, 4426, 4427, 4428, 4429, 4430, 4431, 4432, 4433, 4434, 4435, 4436, 4437, 4438, 4439, 4440, 4441, 4442, 4444, 4446, 4447, 4448, 4449, 4450, 4451, 5203, 5205, 5206, 5208, 5209, 5210, 5211, 5212, 5213, 5214, 5215, 5216, 5217,\n",
    "                     5218, 5219, 5220, 5221, 5222, 5223, 5224, 5225, 5226, 5227, 5228, 5229, 5230, 5301, 5303, 5304, 5306, 5307, 5308, 5309, 5310, 5311, 5312, 5313, 5314, 5315, 5316, 5317, 5318, 5319, 5320, 5321, 5322, 5323, 5324, 5325, 5326, 5327, 5328, 601, 7501, 7502, 7503, 7504, 7506, 7508, 7509, 7510, 7511, 7512, 7513, 7514, 7515, 7518, 7519, 7520, 7521, 7522, 7523, 7524, 7525, 7526, 7527, 7528, 7529, 7530, 7531, 7532, 7533, 7534, 7535, 7536, 7537, 7538, 7539, 7540, 7541, 7542, 7543, 7544, 7545, 7546, 7547, 7548, 7549, 7601, 7604, 7605, 7606, 7607, 7608, 7610, 7611, 7612, 7613, 7614, 7615, 7617, 7618, 7619, 7620, 7621, 7622, 7623, 7625, 7626, 7627, 7628, 7629, 7630, 7631, 7632, 7633, 7634, 7635, 7636, 7637, 7638, 7639, 7640, 7641, 7642, 7643, 7644, 7645, 7646, 7647, 7648, 7649, 8401, 8402, 8403, 8404, 8405, 8406, 8407, 8408, 8409, 8410, 8411, 8412, 8413, 8414, 8415, 8416, 8417, 8419, 8420, 8421, 8426, 8427, 8428, 8430, 8431, 8432, 8435, 8436, 8437, 8438, 8439, 8440, 8441, 8442, 8443, 8444, 8445, 8446, 8447, 8448, 8449, 8450, 8451, 8453, 8454, 8455, 8456, 8457, 8458, 8459, 8460, 8461, 9301, 9302, 9304, 9305, 9306, 9307, 9308, 9311, 9313, 9314, 9315, 9316, 9326, 9329, 9331, 9332, 9333, 9399, 9407, 9408, 9409, 9410, 9411]\n",
    "dict_code_gen = {}\n",
    "\n",
    "\n",
    "def gen_code_bassin(reg, dept):\n",
    "    return int(\"\".join(str(ord(char)) for char in str(reg) + str(dept))) % 10000\n",
    "\n",
    "\n",
    "def get_code_bassin(reg, dept):\n",
    "    global liste_code_bassin\n",
    "    global dict_code_gen\n",
    "\n",
    "    if (reg, dept) in dict_code_gen.keys():\n",
    "        return dict_code_gen[(reg, dept)]\n",
    "\n",
    "    g = gen_code_bassin(reg, dept)\n",
    "\n",
    "    while (g in liste_code_bassin or g in dict_code_gen.values()):\n",
    "        g += 1\n",
    "\n",
    "    liste_code_bassin.append(g)\n",
    "    dict_code_gen[(reg, dept)] = g\n",
    "\n",
    "    return g"
   ]
  },
  {
   "cell_type": "code",
   "execution_count": 120,
   "metadata": {},
   "outputs": [],
   "source": [
    "for df_str in list_df:\n",
    "    df = dfs[df_str]\n",
    "\n",
    "    if df.dtypes[f\"BE{df_str}\"] == 'float64':\n",
    "        df[f\"BE{df_str}\"] = df.apply(lambda x: get_code_bassin(x['NOM_REG'], x['NomDept']) if x[f\"BE{df_str}\"]\n",
    "                                     != x[f\"BE{df_str}\"] or x[f\"BE{df_str}\"] == None else x[f\"BE{df_str}\"], axis=1)\n",
    "    df[f\"BE{df_str}\"] = df[f\"BE{df_str}\"].astype(\"int32\", errors=\"raise\")"
   ]
  },
  {
   "attachments": {},
   "cell_type": "markdown",
   "metadata": {},
   "source": [
    "Pour les noms de bassins d'emplois (`NOMBE**`) non renseignées on renseigne un nom généré à partir des noms de régions et de départements, puis suppression des accents et mise en majuscule.\n"
   ]
  },
  {
   "cell_type": "code",
   "execution_count": 121,
   "metadata": {},
   "outputs": [],
   "source": [
    "for df_str in list_df:\n",
    "    df = dfs[df_str]\n",
    "\n",
    "    df[f\"NOMBE{df_str}\"] = df.apply(lambda x: f\"PAS DE NOM : {x['NomDept']}, {x['NOM_REG']}\" if x[f\"NOMBE{df_str}\"]\n",
    "                                    != x[f\"NOMBE{df_str}\"] or x[f\"NOMBE{df_str}\"] == \"\" else x[f\"NOMBE{df_str}\"], axis=1)\n",
    "    dfs[df_str][f\"NOMBE{df_str}\"] = dfs[df_str][f\"NOMBE{df_str}\"].apply(\n",
    "        unidecode).apply(lambda x: x.upper())"
   ]
  },
  {
   "attachments": {},
   "cell_type": "markdown",
   "metadata": {},
   "source": [
    "Pour les libellés départements et les régions, on prend directement les valeurs dans les données de 2022.\n"
   ]
  },
  {
   "cell_type": "code",
   "execution_count": 122,
   "metadata": {},
   "outputs": [],
   "source": [
    "reg_dict = dfs[\"22\"][[\"REG\", \"NOM_REG\"]].drop_duplicates().sort_values(\n",
    "    by=\"REG\").set_index('REG').to_dict()[\"NOM_REG\"]\n",
    "dept_dict = dfs[\"22\"][[\"Dept\", \"NomDept\"]].drop_duplicates().sort_values(\n",
    "    by=\"Dept\").set_index('Dept').to_dict()[\"NomDept\"]\n",
    "\n",
    "\n",
    "def region(x):\n",
    "    global reg_dict\n",
    "    if x[\"REG\"] in reg_dict.keys():\n",
    "        return reg_dict[x[\"REG\"]]\n",
    "    reg_dict[x[\"REG\"]] = x[\"NOM_REG\"]\n",
    "    return x[\"NOM_REG\"]\n",
    "\n",
    "\n",
    "def dept(x):\n",
    "    global dept_dict\n",
    "    dep = '{0:0>2}'.format(x[\"Dept\"])\n",
    "\n",
    "    if dep in dept_dict.keys():\n",
    "        return dept_dict[dep]\n",
    "\n",
    "    dept_dict[dep] = x[\"NomDept\"]\n",
    "\n",
    "    return x[\"NomDept\"]"
   ]
  },
  {
   "cell_type": "code",
   "execution_count": 123,
   "metadata": {},
   "outputs": [],
   "source": [
    "for df_str in list_df[::-1]:\n",
    "    df = dfs[df_str]\n",
    "    df[\"NOM_REG\"] = df.apply(lambda x: region(x), axis=1)\n",
    "    df[\"NomDept\"] = df.apply(lambda x: dept(x), axis=1)"
   ]
  },
  {
   "attachments": {},
   "cell_type": "markdown",
   "metadata": {},
   "source": [
    "### Corrections manuelles apportées\n"
   ]
  },
  {
   "attachments": {},
   "cell_type": "markdown",
   "metadata": {},
   "source": [
    "Des modifications manuelles ont été apportées pour corriger des erreurs de données identifiées dans le fichier. Par exemple, en 2019, le code `102` était utilisé pour deux bassins différents. Pour corriger cette erreur, nous avons modifié manuellement le code `102` correspondant au bassin \"BASSIN ILES DU NORD\" en le remplaçant par le code `104`, qui correspond bien à ce bassin en 2022. De même, pour uniformiser les noms de bassins d'emploi, nous avons modifié manuellement le nom \"Saint Yriex\" en \"ST YRIEX\". La majorité des erreurs étaient des changements de noms entre les années. Nous avons donc simplement pris le nom de 2022 s'il correspondait au bassin d'emploi. Les changements effectués sont les suivants :\n",
    "\n",
    "- Code `102` apparait pour deux bassins différents en **2019** -> Changement de code `102` en `104` pour les NOMBE21 == \"BASSIN ILES DU NORD\"\n",
    "- Code `7548` apparait pour deux bassins différents en **2019** (ST YRIEX et SAINT YRIEX) -> \"SAINT YRIEX\" deviens \"ST YRIEX\"\n",
    "- Code `7649` identique avec nom différents entre **2019** et **2022** : `Agde-Pézenas` -> `AGDE-PEZENAS`\n",
    "- Code `104` identique avec nom différents entre **2019** et **2022** : `BASSIN SAINT-MARTIN` -> `BASSIN ILES DU NORD`\n",
    "- Code `2808` identique avec nom différents entre **2019** et **2022** : `BOLBEC` -> `LILLEBONNE`\n",
    "- Code `7520` identique avec nom différents entre **2019** et **2022** : `SAINT JEAN D'ANGELY` -> `SAINT-JEAN-D'ANGELY`\n",
    "- Code `1153` identique avec nom différents entre **2018** et **2019** : `T25` -> `BRIE-CRECOIS`\n",
    "- Code `7520` identique avec nom différents entre **2018** et **2019** : `SAINT JEAN D'ANGELY` -> `SAINT-JEAN-D'ANGELY`\n",
    "- Code `104` identique avec nom différents entre **2017** et **2018** : `SAINT-MARTIN` -> `ASSIN ILES DU NORD`\n",
    "- Code `1129` identique avec nom différents entre **2017** et **2018** : `T12` -> `T12 GRAND-ORLY SEINE BIEVRE`\n",
    "- Code `1137` identique avec nom différents entre **2017** et **2018** : `T2` -> `T2 VALLEE SUD GRAND PARIS`\n",
    "- Code `1138` identique avec nom différents entre **2017** et **2018** : `T5` -> `T5 BOUCLE NORD DE SEINE`\n",
    "- Code `1139` identique avec nom différents entre **2017** et **2018** : `T3` -> `T3 GRAND PARIS SEINE OUEST`\n",
    "- Code `1146` identique avec nom différents entre **2017** et **2018** : `T4`-> `T4 PARIS OUEST LA DEFENSE`\n",
    "- Code `1147` identique avec nom différents entre **2017** et **2018** : `T6` -> `T6 PLAINE COMMUNE`\n",
    "- Code `1148` identique avec nom différents entre **2017** et **2018** : `T8` -> `T8 EST ENSEMBLE`\n",
    "- Code `1149` identique avec nom différents entre **2017** et **2018** : `T9` -> `T9 GRAND PARIS GRAND EST`\n",
    "- Code `1150` identique avec nom différents entre **2017** et **2018** : `T11` -> `T11 GRAND PARIS SUD EST AVENIR`\n",
    "- Code `1151` identique avec nom différents entre **2017** et **2018** : `T10` -> `T10 PARIS EST MARNE ET BOIS`\n",
    "- Code `5313` identique avec nom différents entre **2017** et **2018** : `REDON (PARTIEL)` -> `REDON`\n",
    "- Code `7520` identique avec nom différents entre **2017** et **2018** : `SAINT JEAN D'ANGELY` -> `SAINT-JEAN-D'ANGELY`\n",
    "- Code `7528` identique avec nom différents entre **2017** et **2018** : `PAUILLAC` -> `LESPARRE-MEDOC`\n",
    "- Code `9304` identique avec nom différents entre **2018** et **2022** : `BASSIN NICOIS BIS` -> `NICE`\n",
    "- Code `9305` identique avec nom différents entre **2018** et **2022** : `BASSIN CANNOIS BIS` -> `CANNES`\n",
    "- Code `9311` identique avec nom différents entre **2018** et **2022** : `BASSIN TOULONNAIS` -> `TOULON`\n",
    "- Code `9313` identique avec nom différents entre **2018** et **2022** : `BASSIN D'AVIGNON` -> `AVIGNON`\n",
    "- Code `9326` identique avec nom différents entre **2018** et **2022** : `BASSIN DE LA CASA` -> `LA CASA`\n",
    "- Code `9331` identique avec nom différents entre **2018** et **2022** : `BASSIN EST VAROIS` -> `EST VAR`\n",
    "- Code `9332` identique avec nom différents entre **2018** et **2022** : `BASSIN NORD OUEST VAR` -> `HAUT VAR`\n",
    "\n",
    "Pour les données de 2017, nous avons remarqué que seulement 131 codes basisn correspondaient avec les données des années suivante (donc près 300 codes n'ont pas de correspondance). Nous avons alors décidé que nous n'utiliserons pas les données codes bassin pour cette année. Pour tout de même préserver ces données dans notre BD tout en les différenciants, nous avons décidé de rajouter \"17\" devant chaque code bassin. \n"
   ]
  },
  {
   "attachments": {},
   "cell_type": "markdown",
   "metadata": {},
   "source": [
    "### Modifications manuelles dans le dataframe 2017 (df_2017)\n"
   ]
  },
  {
   "cell_type": "markdown",
   "metadata": {},
   "source": [
    "**Fonctions auxiliaires**\n"
   ]
  },
  {
   "cell_type": "code",
   "execution_count": 124,
   "metadata": {},
   "outputs": [],
   "source": [
    "# Fonction pour concatener 17 devant un entier\n",
    "def concat_17(ent):\n",
    "    return int(\"17\"+str(ent))"
   ]
  },
  {
   "cell_type": "code",
   "execution_count": 125,
   "metadata": {},
   "outputs": [],
   "source": [
    "df_2017 = dfs[\"17\"]\n",
    "df_2017[\"BE17\"] = df_2017[\"BE17\"].apply(concat_17)"
   ]
  },
  {
   "attachments": {},
   "cell_type": "markdown",
   "metadata": {},
   "source": [
    "### Modifications manuelles dans le dataframe 2018 (df_2018)\n"
   ]
  },
  {
   "cell_type": "code",
   "execution_count": 126,
   "metadata": {},
   "outputs": [],
   "source": [
    "df_2018 = dfs[\"18\"]\n",
    "\n",
    "\n",
    "df_2018[\"NOMBE18\"] = df_2018[\"NOMBE18\"].str.replace(\n",
    "    \"SAINT-MARTIN\", \"BASSIN ILES DU NORD\",regex=False)\n",
    "df_2018[\"NOMBE18\"] = df_2018[\"NOMBE18\"].str.replace(\n",
    "    \"T12\", \"T12 GRAND-ORLY SEINE BIEVRE\",regex=False)\n",
    "df_2018[\"NOMBE18\"] = df_2018[\"NOMBE18\"].str.replace(\n",
    "    \"T2\", \"T2 VALLEE SUD GRAND PARIS\",regex=False)\n",
    "df_2018[\"NOMBE18\"] = df_2018[\"NOMBE18\"].str.replace(\n",
    "    \"T5\", \"T5 BOUCLE NORD DE SEINE\",regex=False)\n",
    "df_2018[\"NOMBE18\"] = df_2018[\"NOMBE18\"].str.replace(\n",
    "    \"T3\", \"T3 GRAND PARIS SEINE OUEST\",regex=False)\n",
    "df_2018[\"NOMBE18\"] = df_2018[\"NOMBE18\"].str.replace(\n",
    "    \"T4\", \"T4 PARIS OUEST LA DEFENSE\",regex=False)\n",
    "df_2018[\"NOMBE18\"] = df_2018[\"NOMBE18\"].str.replace(\"T6\", \"T6 PLAINE COMMUNE\",regex=False)\n",
    "df_2018[\"NOMBE18\"] = df_2018[\"NOMBE18\"].str.replace(\"T8\", \"T8 EST ENSEMBLE\",regex=False)\n",
    "df_2018[\"NOMBE18\"] = df_2018[\"NOMBE18\"].str.replace(\n",
    "    \"T9\", \"T9 GRAND PARIS GRAND EST\",regex=False)\n",
    "df_2018[\"NOMBE18\"] = df_2018[\"NOMBE18\"].str.replace(\n",
    "    \"T11\", \"T11 GRAND PARIS SUD EST\",regex=False)\n",
    "df_2018[\"NOMBE18\"] = df_2018[\"NOMBE18\"].str.replace(\n",
    "    \"T10\", \"T10 PARIS EST MARNE ET BOIS\",regex=False)\n",
    "df_2018[\"NOMBE18\"] = df_2018[\"NOMBE18\"].str.replace(\"REDON (PARTIEL)\", \"REDON\",regex=False)\n",
    "df_2018[\"NOMBE18\"] = df_2018[\"NOMBE18\"].str.replace(\n",
    "    \"SAINT JEAN D'ANGELY\", \"SAINT-JEAN-D'ANGELY\",regex=False)\n",
    "df_2018[\"NOMBE18\"] = df_2018[\"NOMBE18\"].str.replace(\n",
    "    \"PAUILLAC\", \"LESPARRE-MEDOC\",regex=False)\n",
    "df_2018[\"NOMBE18\"] = df_2018[\"NOMBE18\"].str.replace(\n",
    "    \"BASSIN NICOIS BIS\", \"NICE\",regex=False)\n",
    "df_2018[\"NOMBE18\"] = df_2018[\"NOMBE18\"].str.replace(\n",
    "    \"BASSIN CANNOIS BIS\", \"CANNES\",regex=False)\n",
    "df_2018[\"NOMBE18\"] = df_2018[\"NOMBE18\"].str.replace(\n",
    "    \"BASSIN TOULONNAIS\", \"TOULON\",regex=False)\n",
    "df_2018[\"NOMBE18\"] = df_2018[\"NOMBE18\"].str.replace(\n",
    "    \"BASSIN D'AVIGNON\", \"AVIGNON\",regex=False)\n",
    "df_2018[\"NOMBE18\"] = df_2018[\"NOMBE18\"].str.replace(\n",
    "    \"BASSIN DE LA CASA\", \"LA CASA\",regex=False)\n",
    "df_2018[\"NOMBE18\"] = df_2018[\"NOMBE18\"].str.replace(\n",
    "    \"BASSIN EST VAROIS\", \"EST VAR\",regex=False)\n",
    "df_2018[\"NOMBE18\"] = df_2018[\"NOMBE18\"].str.replace(\n",
    "    \"BASSIN NORD OUEST VAR\", \"HAUT VAR\",regex=False)"
   ]
  },
  {
   "attachments": {},
   "cell_type": "markdown",
   "metadata": {},
   "source": [
    "### Modifications manuelles dans le dataframe 2019 (df_2019)\n"
   ]
  },
  {
   "cell_type": "code",
   "execution_count": 127,
   "metadata": {},
   "outputs": [],
   "source": [
    "df_2019 = dfs[\"19\"]\n",
    "\n",
    "df_2019[\"NOMBE19\"] = df_2019[\"NOMBE19\"].str.replace(\"T25\", \"BRIE-CRECOIS\",regex=False)\n",
    "df_2019[\"NOMBE19\"] = df_2019[\"NOMBE19\"].str.replace(\n",
    "    \"SAINT JEAN D'ANGELY\", \"SAINT-JEAN-D'ANGELY\",regex=False)\n",
    "df_2019[\"NOMBE19\"] = df_2019[\"NOMBE19\"].str.replace(\n",
    "    \"SAINT YRIEIX\", \"ST YRIEIX\",regex=False)"
   ]
  },
  {
   "attachments": {},
   "cell_type": "markdown",
   "metadata": {},
   "source": [
    "### Modifications manuelles dans le dataframe 2020 (df_2020)\n"
   ]
  },
  {
   "cell_type": "code",
   "execution_count": 128,
   "metadata": {},
   "outputs": [],
   "source": [
    "df_2020 = dfs[\"20\"]\n",
    "\n",
    "df_2020[\"NOMBE20\"] = df_2020[\"NOMBE20\"].str.replace(\n",
    "    \"BASSIN SAINT-MARTIN\", \"BASSIN ILES DU NORD\",regex=False)\n",
    "df_2020[\"NOMBE20\"] = df_2020[\"NOMBE20\"].str.replace(\"BOLBEC\", \"LILLEBONNE\",regex=False)\n",
    "df_2020[\"NOMBE20\"] = df_2020[\"NOMBE20\"].str.replace(\n",
    "    \"SAINT JEAN D'ANGELY\", \"SAINT-JEAN-D'ANGELY\",regex=False)"
   ]
  },
  {
   "attachments": {},
   "cell_type": "markdown",
   "metadata": {},
   "source": [
    "### Modifications manuelles dans le dataframe 2021 (df_2021)\n"
   ]
  },
  {
   "cell_type": "code",
   "execution_count": 129,
   "metadata": {},
   "outputs": [],
   "source": [
    "df_2021 = dfs[\"21\"]\n",
    "\n",
    "df_2021[\"NOMBE21\"] = df_2021[\"NOMBE21\"].str.replace(\n",
    "    \"Agde-P麥nas\", \"AGDE-PEZENAS\",regex=False)\n",
    "\n",
    "df_2021[\"BE21\"] = df_2021.apply(\n",
    "    lambda x: 104 if x[\"NOMBE21\"] == \"BASSIN ILES DU NORD\" else x[\"BE21\"], axis=1)"
   ]
  },
  {
   "cell_type": "code",
   "execution_count": 130,
   "metadata": {
    "tags": []
   },
   "outputs": [],
   "source": [
    "for df_str in list_df:\n",
    "    df_unique = dfs[df_str][[f\"BE{df_str}\",f\"NOMBE{df_str}\"]].drop_duplicates()\n",
    "    for id in df_unique[f\"BE{df_str}\"]:\n",
    "        if len(df_unique[df_unique[f\"BE{df_str}\"]==id])!=1:\n",
    "            print(df_unique[df_unique[f\"BE{df_str}\"]==id])"
   ]
  },
  {
   "cell_type": "markdown",
   "metadata": {},
   "source": [
    "## Importation dans la BD\n"
   ]
  },
  {
   "attachments": {},
   "cell_type": "markdown",
   "metadata": {},
   "source": [
    "**Fonctions pour insertion dans la Bd**\n"
   ]
  },
  {
   "cell_type": "code",
   "execution_count": 131,
   "metadata": {},
   "outputs": [],
   "source": [
    "def to_db(row, db, df_str):\n",
    "\n",
    "    alim_familles_metier(row, db, df_str)\n",
    "    alim_metier(row, db)\n",
    "    alim_geo(row, db, df_str)\n",
    "    alim_recrutements(row, db, df_str)\n",
    "\n",
    "\n",
    "def alim_metier(row, db):\n",
    "\n",
    "    code_metier_BMO = row[\"Code métier BMO\"]\n",
    "\n",
    "    nom_metier = row[\"Nom métier BMO\"]\n",
    "    code_famille_BMO = row[\"Famille_met\"]\n",
    "\n",
    "    try:\n",
    "        cur = db.cursor()\n",
    "        cur.execute(\"INSERT INTO metiers('code_metier_BMO','nom_metier','code_famille_BMO') VALUES (?,?,?)\",\n",
    "                    (code_metier_BMO, nom_metier, code_famille_BMO))\n",
    "    except sqlite3.IntegrityError:\n",
    "        pass\n",
    "    except Exception as e:\n",
    "        print(\"AUTRE ERREUR : \", e)\n",
    "\n",
    "\n",
    "def alim_familles_metier(row, db, df_str):\n",
    "    code_famille_BMO = row[\"Famille_met\"]\n",
    "    nom_famille_BMO = row[\"Lbl_fam_met\"]\n",
    "\n",
    "    try:\n",
    "        cur = db.cursor()\n",
    "        cur.execute(\"INSERT INTO familles_metier('code_famille_BMO','famille_metier') VALUES (?,?)\",\n",
    "                    (code_famille_BMO, nom_famille_BMO))\n",
    "\n",
    "    except sqlite3.IntegrityError:\n",
    "        pass\n",
    "    except Exception as e:\n",
    "        print(\"AUTRE ERREUR : \", e)\n",
    "\n",
    "\n",
    "def alim_geo(row, db, df_str):\n",
    "    code_bassin = row[f\"BE{df_str}\"]\n",
    "    nom_bassin = row[f\"NOMBE{df_str}\"]\n",
    "    dept = row[\"Dept\"]\n",
    "    nom_dept = row[\"NomDept\"]\n",
    "    reg = row[\"REG\"]\n",
    "    nom_reg = row[\"NOM_REG\"]\n",
    "\n",
    "    try:\n",
    "        cur = db.cursor()\n",
    "        cur.execute(\"INSERT INTO geo('code_bassin','nom_bassin','dept','nom_dept','reg','nom_reg') VALUES (?,?,?,?,?,?)\",\n",
    "                    (code_bassin, nom_bassin, dept, nom_dept, reg, nom_reg))\n",
    "\n",
    "    except sqlite3.IntegrityError:\n",
    "        pass\n",
    "    except Exception as e:\n",
    "        print(\"AUTRE ERREUR : \", e)\n",
    "\n",
    "\n",
    "def alim_recrutements(row, db, df_str):\n",
    "    met = row[\"met\"]\n",
    "    xmet = row[\"xmet\"]\n",
    "    smet = row[\"smet\"]\n",
    "    code_metier_BMO = row[\"Code métier BMO\"]\n",
    "    code_bassin = row[f\"BE{df_str}\"]\n",
    "    annee = row[\"annee\"]\n",
    "\n",
    "    try:\n",
    "        cur = db.cursor()\n",
    "        cur.execute(\"INSERT INTO recrutements('met','xmet','smet','code_metier_BMO','code_bassin','annee') VALUES (?,?,?,?,?,?)\",\n",
    "                    (met, xmet, smet, code_metier_BMO, code_bassin, annee))\n",
    "\n",
    "    except sqlite3.IntegrityError:\n",
    "        pass\n",
    "    except Exception as e:\n",
    "        print(\"AUTRE ERREUR : \", e)"
   ]
  },
  {
   "attachments": {},
   "cell_type": "markdown",
   "metadata": {},
   "source": [
    "**Connexion**\n"
   ]
  },
  {
   "cell_type": "code",
   "execution_count": 132,
   "metadata": {},
   "outputs": [],
   "source": [
    "db = sqlite3.connect(\"../Emploi.db\")"
   ]
  },
  {
   "attachments": {},
   "cell_type": "markdown",
   "metadata": {},
   "source": [
    "**Création de la BD**\n"
   ]
  },
  {
   "cell_type": "code",
   "execution_count": 133,
   "metadata": {},
   "outputs": [],
   "source": [
    "cur = db.cursor()\n",
    "\n",
    "# Suppression des anciennes tables\n",
    "cur.execute(\"PRAGMA writable_schema = 1\")\n",
    "cur.execute(\n",
    "    \"delete from sqlite_master where type in ('table', 'index', 'trigger')\")\n",
    "cur.execute(\"PRAGMA writable_schema = 0\")\n",
    "db.commit()\n",
    "\n",
    "cur.execute(\"VACUUM\")\n",
    "db.commit()\n",
    "\n",
    "cur.execute(\"PRAGMA INTEGRITY_CHECK\")\n",
    "db.commit()\n",
    "\n",
    "#Création des nouvelles tables\n",
    "cur.execute(\"\"\"\n",
    "CREATE TABLE metiers (\n",
    "\t\"code_metier_BMO\"\tVARCHAR(15) NOT NULL UNIQUE,\n",
    "\t\"nom_metier\"\tVARCHAR(50),\n",
    "\t\"code_famille_BMO\"\tINTEGER NOT NULL,\n",
    "\tPRIMARY KEY(\"code_metier_BMO\"),\n",
    "\tFOREIGN KEY(\"code_famille_BMO\") REFERENCES \"familles_metier\"(\"code_famille_BMO\"))\"\"\")\n",
    "\n",
    "cur.execute(\"\"\"\n",
    "CREATE TABLE familles_metier (\n",
    "\t\"code_famille_BMO\"\tVARCHAR(15) NOT NULL UNIQUE,\n",
    "\t\"famille_metier\"\tVARCHAR(50) NOT NULL,\n",
    "\tPRIMARY KEY(\"code_famille_BMO\"))\"\"\")\n",
    "\n",
    "cur.execute(\"\"\"\n",
    "CREATE TABLE recrutements (\n",
    "\t\"id\"\tINTEGER NOT NULL PRIMARY KEY AUTOINCREMENT UNIQUE,\n",
    "\t\"met\"\tINTEGER,\n",
    "\t\"xmet\"\tINTEGER,\n",
    "\t\"smet\"\tINTEGER,\n",
    "\t\"code_metier_BMO\"\tVARCHAR(50) NOT NULL,\n",
    "\t\"code_bassin\"\tVARCHAR(50) NOT NULL,\n",
    "\t\"annee\"\tINTEGER NOT NULL,\n",
    "\tFOREIGN KEY(\"code_metier_BMO\") REFERENCES \"metier\"(\"code_metier_BMO\"),\n",
    "\tFOREIGN KEY(\"code_bassin\") REFERENCES \"geo\"(\"code_bassin\")\n",
    ")\"\"\")\n",
    "\n",
    "cur.execute(\"\"\"\n",
    "CREATE TABLE geo (\n",
    "\t\"code_bassin\"\tVARCHAR(50) NOT NULL UNIQUE,\n",
    "\t\"nom_bassin\"\tVARCHAR(50),\n",
    "\t\"dept\"\tINTEGER,\n",
    "\t\"nom_dept\"\tVARCHAR(50),\n",
    "\t\"reg\"\tINTEGER,\n",
    "\t\"nom_reg\"\tVARCHAR(50),\n",
    "\tPRIMARY KEY(\"code_bassin\")\n",
    ")\"\"\")\n",
    "\n",
    "\n",
    "db.commit()"
   ]
  },
  {
   "attachments": {},
   "cell_type": "markdown",
   "metadata": {},
   "source": [
    "**Insertion dans la BD**\n"
   ]
  },
  {
   "cell_type": "code",
   "execution_count": 134,
   "metadata": {},
   "outputs": [],
   "source": [
    "for df_str in list_df:\n",
    "    for index, row in dfs[df_str].iterrows():\n",
    "        to_db(row, db, df_str)\n",
    "\n",
    "db.commit()\n",
    "db.close()"
   ]
  }
 ],
 "metadata": {
  "kernelspec": {
   "display_name": "Python 3 (ipykernel)",
   "language": "python",
   "name": "python3"
  },
  "language_info": {
   "codemirror_mode": {
    "name": "ipython",
    "version": 3
   },
   "file_extension": ".py",
   "mimetype": "text/x-python",
   "name": "python",
   "nbconvert_exporter": "python",
   "pygments_lexer": "ipython3",
   "version": "3.8.8"
  }
 },
 "nbformat": 4,
 "nbformat_minor": 4
}
